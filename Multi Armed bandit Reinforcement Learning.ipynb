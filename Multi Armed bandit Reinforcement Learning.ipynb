{
 "cells": [
  {
   "cell_type": "markdown",
   "metadata": {},
   "source": [
    "# Group Study Reinforcement Learning"
   ]
  },
  {
   "cell_type": "markdown",
   "metadata": {},
   "source": [
    "## Multi-Armed Bandits - A single state example\n",
    "\n",
    "\n",
    "* Given N different arms to choose from, each with an unknown reward, what strategy should we use to explore and learn the values of each arm, while exploiting our current knowledge to maximize profit?\n",
    "* This is a very common approach for optimizing online marketing campaigns.\n",
    "* This can be thought of as a single-state reinforcement learning problem\n"
   ]
  },
  {
   "cell_type": "markdown",
   "metadata": {},
   "source": [
    "# Exploration vs Exploitation"
   ]
  },
  {
   "cell_type": "markdown",
   "metadata": {},
   "source": [
    "- In the absence of a Supervisor, the agent must exlore the environment in order to gain information about rewards, while exploiting it's current information to maximize it's rewards.\n",
    "\n",
    "- Balancing this tradeoff is a common theme"
   ]
  },
  {
   "cell_type": "markdown",
   "metadata": {},
   "source": [
    "## Epsilon-greedy"
   ]
  },
  {
   "cell_type": "markdown",
   "metadata": {},
   "source": [
    "- A fraction (1 - $\\epsilon$) of the time, choose the arm with the largest estimated value (exploit)\n",
    "- The other $\\epsilon$ of the time, chose a random arm (explore)\n",
    "- Tune $\\epsilon$ in order to balance tradeoff\n",
    "\n"
   ]
  },
  {
   "cell_type": "code",
   "execution_count": 80,
   "metadata": {},
   "outputs": [],
   "source": [
    "%matplotlib inline\n",
    "import numpy as np\n",
    "import matplotlib.pyplot as plt"
   ]
  },
  {
   "cell_type": "markdown",
   "metadata": {},
   "source": [
    "- Let true arm values be normally distributed with mean of 0, variance of 1\n",
    "- Add a noise term to each reward, also normally distributed with mean of 0, variance of 1"
   ]
  },
  {
   "cell_type": "markdown",
   "metadata": {},
   "source": [
    "## Bandit class"
   ]
  },
  {
   "cell_type": "code",
   "execution_count": 81,
   "metadata": {},
   "outputs": [],
   "source": [
    "class Bandit:\n",
    "    '''\n",
    "    class to represent a n - armed slot machine\n",
    "    each arm has value, no of times a particular arm was pulled, and its running average of reward\n",
    "    '''\n",
    "    def __init__(self):\n",
    "        self.arm_values = np.random.normal(0,1,10) #10 random sample values from gaussian distribution\n",
    "        self.K = np.zeros(10) # K = stores no of times the arm is pulled \n",
    "        self.est_values = np.zeros(10) #running avg of the reward\n",
    "   \n",
    "    \n",
    "    def get_reward(self,action):\n",
    "        noise = np.random.normal(0,1)\n",
    "        if noise < self.arm_values[action]: #if arm value greater than random value, we get reward = 1\n",
    "            reward = 1\n",
    "        else:\n",
    "            reward = 0\n",
    "        return reward\n",
    "    \n",
    "    #action search strategy 2\n",
    "    def choose_eps_greedy(self,epsilon):\n",
    "        '''e greedy action search method\n",
    "           if e = 0 => greedy(exploit the best arm),e =1 =>random(select any arm), for other values of e => e-greedy\n",
    "           returns the arm index of the arm to be pulled \n",
    "        '''\n",
    "        rand_num = np.random.random()\n",
    "        if epsilon>rand_num: #explore\n",
    "            return np.random.randint(10)\n",
    "        else: #exploit\n",
    "            return np.argmax(self.est_values)\n",
    "\n",
    "\n",
    "    #action search strategy 2 => Needs to be worked on\n",
    "    def softmax(self):\n",
    "        '''actionsearch strategy using botlzmann approach\n",
    "           returns the arm index of the arm to be pulled \n",
    "        '''\n",
    "        tau = 1.12 #some random tau value\n",
    "        weighted_probs = np.zeros(10)\n",
    "        #calculate the weighted probability of each arm\n",
    "        for i in range(10):\n",
    "            softm = ( np.exp(self.est_values[i] / tau) / np.sum( np.exp(self.est_values[:] / tau) ) )\n",
    "            weighted_probs[i] = softm\n",
    "\n",
    "        return np.random.choice(range(10), p=weighted_probs)\n",
    "\n",
    "\n",
    "    def update_est(self,action,reward):\n",
    "        '''\n",
    "        updates the K(i.e count of arm # pulled) and running avg of the arm(action)selected \n",
    "        '''\n",
    "        self.K[action] += 1 #update the count\n",
    "        alpha = 1./self.K[action] \n",
    "        #update the running average of rewards\n",
    "        self.est_values[action] += alpha * (reward - self.est_values[action])  # keeps running average of rewards"
   ]
  },
  {
   "cell_type": "markdown",
   "metadata": {},
   "source": [
    "## Lets get some money"
   ]
  },
  {
   "cell_type": "code",
   "execution_count": 82,
   "metadata": {},
   "outputs": [],
   "source": [
    "bandit = Bandit()"
   ]
  },
  {
   "cell_type": "code",
   "execution_count": 83,
   "metadata": {},
   "outputs": [
    {
     "name": "stdout",
     "output_type": "stream",
     "text": [
      "arm values => [ 1.50608695  0.63910542  0.45152935 -1.234298   -0.13605638  0.85195221\n",
      " -0.8470587  -0.0870578  -0.0220476  -0.22923694]\n",
      "K => [ 0.  0.  0.  0.  0.  0.  0.  0.  0.  0.]\n",
      "est_values => [ 0.  0.  0.  0.  0.  0.  0.  0.  0.  0.]\n"
     ]
    }
   ],
   "source": [
    "print (\"arm values => \" + str(bandit.arm_values))\n",
    "print (\"K => \" + str(bandit.K))\n",
    "print(\"est_values => \" + str(bandit.est_values))"
   ]
  },
  {
   "cell_type": "code",
   "execution_count": 84,
   "metadata": {},
   "outputs": [
    {
     "name": "stdout",
     "output_type": "stream",
     "text": [
      "4\n"
     ]
    }
   ],
   "source": [
    "selected_arm = bandit.choose_eps_greedy(0.3) #eps = 0.3\n",
    "print(selected_arm)"
   ]
  },
  {
   "cell_type": "code",
   "execution_count": 85,
   "metadata": {},
   "outputs": [
    {
     "name": "stdout",
     "output_type": "stream",
     "text": [
      "0\n"
     ]
    }
   ],
   "source": [
    "reward = bandit.get_reward(selected_arm)\n",
    "print(reward)"
   ]
  },
  {
   "cell_type": "markdown",
   "metadata": {},
   "source": [
    "### updated arm values after 1 pull"
   ]
  },
  {
   "cell_type": "code",
   "execution_count": 86,
   "metadata": {},
   "outputs": [
    {
     "name": "stdout",
     "output_type": "stream",
     "text": [
      "arm values => [ 1.50608695  0.63910542  0.45152935 -1.234298   -0.13605638  0.85195221\n",
      " -0.8470587  -0.0870578  -0.0220476  -0.22923694]\n",
      "K => [ 0.  0.  0.  0.  1.  0.  0.  0.  0.  0.]\n",
      "est_values => [ 0.  0.  0.  0.  0.  0.  0.  0.  0.  0.]\n"
     ]
    }
   ],
   "source": [
    "\n",
    "bandit.update_est(selected_arm, reward)\n",
    "print (\"arm values => \" + str(bandit.arm_values))\n",
    "print (\"K => \" + str(bandit.K))\n",
    "print(\"est_values => \" + str(bandit.est_values))"
   ]
  },
  {
   "cell_type": "markdown",
   "metadata": {},
   "source": [
    "### Lets try our luck again"
   ]
  },
  {
   "cell_type": "code",
   "execution_count": 87,
   "metadata": {},
   "outputs": [
    {
     "name": "stdout",
     "output_type": "stream",
     "text": [
      "selected arm => 8\n",
      "reward => 0\n",
      "arm values => [ 1.50608695  0.63910542  0.45152935 -1.234298   -0.13605638  0.85195221\n",
      " -0.8470587  -0.0870578  -0.0220476  -0.22923694]\n",
      "K => [ 0.  0.  0.  0.  1.  0.  0.  0.  1.  0.]\n",
      "est_values => [ 0.  0.  0.  0.  0.  0.  0.  0.  0.  0.]\n"
     ]
    }
   ],
   "source": [
    "#lets pull the arm again and see its values\n",
    "\n",
    "selected_arm = bandit.choose_eps_greedy(0.3)\n",
    "print(\"selected arm => \" +str(selected_arm))\n",
    "reward = bandit.get_reward(selected_arm)\n",
    "print(\"reward => \" +str(reward))\n",
    "bandit.update_est(selected_arm,reward)\n",
    "print (\"arm values => \" + str(bandit.arm_values))\n",
    "print (\"K => \" + str(bandit.K))\n",
    "print(\"est_values => \" + str(bandit.est_values))"
   ]
  },
  {
   "cell_type": "markdown",
   "metadata": {},
   "source": [
    "# Experiment\n",
    "A single experiment consists of pulling the arm Npulls times for a given 10 armed bandit."
   ]
  },
  {
   "cell_type": "markdown",
   "metadata": {},
   "source": [
    "## Epsilon greedy experiment"
   ]
  },
  {
   "cell_type": "code",
   "execution_count": 88,
   "metadata": {},
   "outputs": [],
   "source": [
    "#epsilon greedy experiment\n",
    "\n",
    "def experiment(bandit,Npulls,epsilon):\n",
    "    '''\n",
    "    Multi armed bandit experiment conducted using e-greedy search method\n",
    "    '''\n",
    "    #store the reward's collected during the conducted experiment\n",
    "    history = []\n",
    "    \n",
    "    for i in range(Npulls):\n",
    "        #step 1 : select action i.e arm #\n",
    "        action = bandit.choose_eps_greedy(epsilon)\n",
    "        #step 2 : calculate the reward for selecting that arm#\n",
    "        R = bandit.get_reward(action)\n",
    "        #step 3 : update the reward value of the arm selected \n",
    "        bandit.update_est(action,R)\n",
    "        history.append(R)\n",
    "        \n",
    "    return np.array(history)"
   ]
  },
  {
   "cell_type": "markdown",
   "metadata": {},
   "source": [
    "## Boltzmann experiment"
   ]
  },
  {
   "cell_type": "code",
   "execution_count": 89,
   "metadata": {},
   "outputs": [],
   "source": [
    "#boltzmann experiment\n",
    "\n",
    "def experiment2(bandit,Npulls):\n",
    "    '''\n",
    "    Multi armed bandit experiment conducted using boltzmann approach search method\n",
    "    '''\n",
    "    #store the reward's collected during the conducted experiment\n",
    "    history = []\n",
    "    for i in range(Npulls):\n",
    "        #step 1 : select action i.e arm #\n",
    "        action = bandit.softmax()\n",
    "        #step 2 : calculate the reward for selecting that arm#\n",
    "        R = bandit.get_reward(action)\n",
    "        #step 3 : update the reward value of the arm selected \n",
    "        bandit.update_est(action,R)\n",
    "        history.append(R)\n",
    "\n",
    "    return np.array(history)"
   ]
  },
  {
   "cell_type": "markdown",
   "metadata": {},
   "source": [
    "Repeat experiment many times and look at the evolution of the rewards, averaged over all the experiments"
   ]
  },
  {
   "cell_type": "markdown",
   "metadata": {},
   "source": [
    "## Let's use our RL experiments to play slots"
   ]
  },
  {
   "cell_type": "code",
   "execution_count": 90,
   "metadata": {},
   "outputs": [],
   "source": [
    "\n",
    "#Nexp gives the number of times we need to experiment\n",
    "Nexp = 120\n",
    "#each experiment consists of Npulls number of arms pulled\n",
    "Npulls = 500\n",
    "\n",
    "#variables to store avg reward of a particular experiment\n",
    "avg_outcome_eps0p0 = np.zeros(Npulls) # greedy selection experiment\n",
    "avg_outcome_eps0p1 = np.zeros(Npulls) # e - greedy experiment\n",
    "avg_outcome_eps1 = np.zeros(Npulls) # random selection experiment\n",
    "avg_outcome_boltzmann = np.zeros(Npulls)\n",
    "\n",
    "avg_outcome_changinge = np.zeros(Npulls) # changing e selection experiment \n",
    "\n",
    "\n",
    "for i in range(Nexp):\n",
    "    bandit = Bandit()\n",
    "    avg_outcome_eps0p0 += experiment(bandit,Npulls,0.0)\n",
    "    \n",
    "    bandit = Bandit()\n",
    "    avg_outcome_eps0p1 += experiment(bandit,Npulls,0.1)\n",
    "    \n",
    "    bandit = Bandit()\n",
    "    avg_outcome_eps1 += experiment(bandit,Npulls,0.1)\n",
    "    \n",
    "    bandit = Bandit()\n",
    "    avg_outcome_boltzmann += experiment2(bandit,Npulls)\n",
    "\n",
    "bandit = Bandit()\n",
    "for i in range(int(Nexp/4)):\n",
    "    avg_outcome_changinge += experiment(bandit, Npulls, 0.20) #explore more\n",
    "    \n",
    "for i in range(int(Nexp/4)):\n",
    "    avg_outcome_changinge += experiment(bandit, Npulls, 0.12)    \n",
    "\n",
    "    \n",
    "for i in range(int(Nexp/2)):\n",
    "    avg_outcome_changinge += experiment(bandit, Npulls, 0.08) #exploit more\n",
    "\n",
    "\n",
    "avg_outcome_eps0p0 /= np.float(Nexp)\n",
    "avg_outcome_eps0p1 /= np.float(Nexp)\n",
    "avg_outcome_eps1 /= np.float(Nexp)\n",
    "avg_outcome_boltzmann /= np.float(Nexp)\n",
    "avg_outcome_changinge /= np.float(Nexp)"
   ]
  },
  {
   "cell_type": "markdown",
   "metadata": {},
   "source": [
    "## Plots"
   ]
  },
  {
   "cell_type": "code",
   "execution_count": 91,
   "metadata": {},
   "outputs": [
    {
     "data": {
      "image/png": "[encoded data removed]"
     },
     "execution_count": 91,
     "metadata": {},
     "output_type": "execute_result"
    }
   ],
   "source": [
    "plt.plot(avg_outcome_eps0p0,label=\"eps = 0.0\")\n",
    "plt.plot(avg_outcome_eps0p1,label=\"eps = 0.1\")\n",
    "plt.plot(avg_outcome_eps1,label=\"eps = 1\")\n",
    "#plt.plot(avg_outcome_boltzmann,label=\"eps = boltzmn\")\n",
    "plt.plot(avg_outcome_changinge, label = \"var e\")\n",
    "\n",
    "\n",
    "plt.ylim(0,2.2)\n",
    "plt.legend()\n",
    "plt.show()"
   ]
  },
  {
   "cell_type": "code",
   "execution_count": 92,
   "metadata": {},
   "outputs": [
    {
     "data": {
      "image/png": "[encoded data removed]"
     },
     "execution_count": 92,
     "metadata": {},
     "output_type": "execute_result"
    }
   ],
   "source": [
    "plt.plot(avg_outcome_boltzmann,label=\"eps = boltzmn\")\n",
    "plt.plot(avg_outcome_changinge, label = \"var e\")\n",
    "\n",
    "\n",
    "plt.ylim(0,2.2)\n",
    "plt.legend()\n",
    "plt.show()"
   ]
  },
  {
   "cell_type": "markdown",
   "metadata": {},
   "source": [
    "# Blackjack"
   ]
  },
  {
   "cell_type": "code",
   "execution_count": 72,
   "metadata": {
    "collapsed": true
   },
   "outputs": [],
   "source": [
    "import math\n",
    "import random\n",
    "#each value card has a 1:13 chance of being selected (we don't care about suits for blackjack)\n",
    "#cards (value): Ace (1), 2, 3, 4, 5, 6, 7, 8, 9, 10, Jack (10), Queen (10), King (10)\n",
    "\n",
    "def randomCard():\n",
    "    card = random.randint(1,13)\n",
    "    if card > 10:\n",
    "        card = 10\n",
    "    return card\n",
    "\n",
    "#A hand is just a tuple e.g. (14, False), a total card value of 14 without a useable ace\n",
    "#accepts a hand, if the Ace can be an 11 without busting the hand, it's useable\n",
    "def useable_ace(hand):\n",
    "    val, ace = hand\n",
    "    return ((ace) and ((val + 10) <= 21))\n",
    "\n",
    "def totalValue(hand):\n",
    "    val, ace = hand\n",
    "    if (useable_ace(hand)):\n",
    "        return (val + 10)\n",
    "    else:\n",
    "        return val\n",
    "    \n",
    "def add_card(hand, card):\n",
    "    val, ace = hand\n",
    "    if (card == 1):\n",
    "        ace = True\n",
    "    return (val + card, ace)\n",
    "#The first is first dealt a single card, this method finishes off his hand\n",
    "def eval_dealer(dealer_hand):\n",
    "    while (totalValue(dealer_hand) < 17):\n",
    "        dealer_hand = add_card(dealer_hand, randomCard())\n",
    "    return dealer_hand\n",
    "\n",
    "#state: (player total, useable_ace), (dealer total, useable ace), game status; e.g. ((15, True), (9, False), 1)\n",
    "#stay or hit => dec == 0 or 1\n",
    "def play(state, dec):\n",
    "    #evaluate\n",
    "    player_hand = state[0] #val, useable ace\n",
    "    dealer_hand = state[1]\n",
    "    if dec == 0: #action = stay\n",
    "        #evaluate game; dealer plays\n",
    "        dealer_hand = eval_dealer(dealer_hand)\n",
    "        \n",
    "        player_tot = totalValue(player_hand)\n",
    "        dealer_tot = totalValue(dealer_hand)\n",
    "        status = 1\n",
    "        if (dealer_tot > 21):\n",
    "            status = 2 #player wins\n",
    "        elif (dealer_tot == player_tot):\n",
    "            status = 3 #draw\n",
    "        elif (dealer_tot < player_tot):\n",
    "            status = 2 #player wins\n",
    "        elif (dealer_tot > player_tot):\n",
    "            status = 4 #player loses\n",
    "            \n",
    "    elif dec == 1: #action = hit\n",
    "        #if hit, add new card to player's hand\n",
    "        player_hand = add_card(player_hand, randomCard())\n",
    "        d_hand = eval_dealer(dealer_hand)\n",
    "        player_tot = totalValue(player_hand)\n",
    "        status = 1\n",
    "        if (player_tot == 21): \n",
    "            if (totalValue(d_hand) == 21):\n",
    "                status = 3 #draw\n",
    "            else:\n",
    "                status = 2 #player wins!\n",
    "        elif (player_tot > 21):\n",
    "            status = 4 #player loses\n",
    "        elif (player_tot < 21):\n",
    "            #game still in progress\n",
    "            status = 1\n",
    "    state = (player_hand, dealer_hand, status)\n",
    "\n",
    "    return state\n",
    "\n",
    "#start a game of blackjack, returns a random initial state\n",
    "def initGame():\n",
    "    status = 1 #1=in progress; 2=player won; 3=draw; 4 = dealer won/player loses\n",
    "    player_hand = add_card((0, False), randomCard())\n",
    "    player_hand = add_card(player_hand, randomCard())\n",
    "    dealer_hand = add_card((0, False), randomCard())\n",
    "    #evaluate if player wins from first hand\n",
    "    if totalValue(player_hand) == 21:\n",
    "        if totalValue(dealer_hand) != 21:\n",
    "            status = 2 #player wins after first deal!\n",
    "        else:\n",
    "            status = 3 #draw\n",
    "        \n",
    "    state = (player_hand, dealer_hand, status)\n",
    "    return state"
   ]
  },
  {
   "cell_type": "markdown",
   "metadata": {},
   "source": [
    "### Play blackjack"
   ]
  },
  {
   "cell_type": "code",
   "execution_count": 73,
   "metadata": {},
   "outputs": [
    {
     "name": "stdout",
     "output_type": "stream",
     "text": [
      "((13, False), (8, False), 1)\n"
     ]
    }
   ],
   "source": [
    "state = initGame()\n",
    "print(state)"
   ]
  },
  {
   "cell_type": "code",
   "execution_count": null,
   "metadata": {
    "collapsed": true
   },
   "outputs": [],
   "source": []
  },
  {
   "cell_type": "markdown",
   "metadata": {},
   "source": [
    "## Introduce Reinforcement Learning"
   ]
  },
  {
   "cell_type": "code",
   "execution_count": 74,
   "metadata": {
    "collapsed": true
   },
   "outputs": [],
   "source": [
    "import numpy as np\n",
    "\n",
    "#Create a list of all the possible states\n",
    "def initStateSpace():\n",
    "    states = []\n",
    "    for card in range(1,11):\n",
    "        for val in range(11,22):\n",
    "            states.append((val, False, card))\n",
    "            states.append((val, True, card))\n",
    "    return states\n",
    "\n",
    "#Create a dictionary (key-value pairs) of all possible state-actions and their values\n",
    "#This creates our Q-value look up table\n",
    "def initStateActions(states):\n",
    "    av = {}\n",
    "    for state in states:\n",
    "        av[(state, 0)] = 0.0\n",
    "        av[(state, 1)] = 0.0\n",
    "    return av\n",
    "#Setup a dictionary of state-actions to record how many times we've experienced\n",
    "#a given state-action pair. We need this to re-calculate reward averages\n",
    "def initSAcount(stateActions):\n",
    "    counts = {}\n",
    "    for sa in stateActions:\n",
    "        counts[sa] = 0\n",
    "    return counts\n",
    "\n",
    "#This calculates the reward of the game, either +1 for winning, 0 for draw, or -1 for losing\n",
    "#We can determine this by simply substracting the game status value from 3\n",
    "def calcReward(outcome):\n",
    "    return 3-outcome\n",
    "\n",
    "#This recalculates the average rewards for our Q-value look-up table\n",
    "def updateQtable(av_table, av_count, returns):\n",
    "    for key in returns:\n",
    "        av_table[key] = av_table[key] + (1.0 / av_count[key]) * (returns[key]- av_table[key])\n",
    "    return av_table\n",
    "        \n",
    "#returns Q-value/avg rewards for each action given a state\n",
    "def qsv(state, av_table):\n",
    "    stay = av_table[(state,0)]\n",
    "    hit = av_table[(state,1)]\n",
    "    return np.array([stay, hit])\n",
    "\n",
    "#converts a game state of the form ((player total, ace), (dealer total, ace), status) \n",
    "#to a condensed state we'll use for our RL algorithm (player total, usable ace, dealer card)\n",
    "def getRLstate(state):\n",
    "    player_hand, dealer_hand, status = state\n",
    "    player_val, player_ace = player_hand\n",
    "    return (player_val, player_ace, dealer_hand[0])"
   ]
  },
  {
   "cell_type": "code",
   "execution_count": null,
   "metadata": {
    "collapsed": true
   },
   "outputs": [],
   "source": [
    "epochs = 5000000 #takes just a minute or two on my Macbook Air\n",
    "epsilon = 0.1\n",
    "\n",
    "state_space = initStateSpace()\n",
    "av_table = initStateActions(state_space)\n",
    "av_count = initSAcount(av_table)\n",
    "\n",
    "for i in range(epochs):\n",
    "    #initialize new game; observe current state\n",
    "    state = initGame()\n",
    "    player_hand, dealer_hand, status = state\n",
    "    #if player's total is less than 11, increase total by adding another card\n",
    "    #we do this because whenever the player's total is less than 11, you always hit no matter what\n",
    "    #so we don't want to waste compute cycles on that subset of the state space\n",
    "    while player_hand[0] < 11:\n",
    "        player_hand = add_card(player_hand, randomCard())\n",
    "        state = (player_hand, dealer_hand, status)\n",
    "    rl_state = getRLstate(state) #convert to compressed version of state\n",
    "    \n",
    "    #setup dictionary to temporarily hold the current episode's state-actions\n",
    "    returns = {} #state, action, return\n",
    "    while(state[2] == 1): #while in current episode\n",
    "        #epsilon greedy action selection\n",
    "        act_probs = qsv(rl_state, av_table)\n",
    "        if (random.random() < epsilon):\n",
    "            action = random.randint(0,1)\n",
    "        else:\n",
    "            action = np.argmax(act_probs)#select an action\n",
    "        sa = ((rl_state, action))\n",
    "        returns[sa] = 0 #add a-v pair to returns list, default value to 0\n",
    "        av_count[sa] += 1 #increment counter for avg calc\n",
    "        state = play(state, action) #make a play, observe new state\n",
    "        rl_state = getRLstate(state)\n",
    "    #after an episode is complete, assign rewards to all the state-actions that took place in the episode\n",
    "    for key in returns: \n",
    "        returns[key] = calcReward(state[2])\n",
    "    av_table = updateQtable(av_table, av_count, returns)\n",
    "print(\"Done\")"
   ]
  },
  {
   "cell_type": "code",
   "execution_count": null,
   "metadata": {
    "collapsed": true
   },
   "outputs": [],
   "source": [
    "#3d plot of state-value space where no useable Aces are present\n",
    "import matplotlib.pyplot as plt\n",
    "from mpl_toolkits.mplot3d import Axes3D\n",
    "from matplotlib import cm\n",
    "%matplotlib inline\n",
    "fig = plt.figure(figsize=(8, 6))\n",
    "ax = fig.add_subplot(111, projection='3d', )\n",
    "\n",
    "ax.set_xlabel('Dealer card')\n",
    "ax.set_ylabel('Player sum')\n",
    "ax.set_zlabel('State-Value')\n",
    "\n",
    "x,y,z = [],[],[]\n",
    "for key in state_space:\n",
    "    if (not key[1] and key[0] > 11 and key[2] < 21):\n",
    "        y.append(key[0])\n",
    "        x.append(key[2])\n",
    "        state_value = max([av_table[(key, 0)], av_table[(key, 1)]])\n",
    "        z.append(state_value)\n",
    "ax.azim = 230\n",
    "ax.plot_trisurf(x,y,z, linewidth=.02, cmap=cm.jet)"
   ]
  },
  {
   "cell_type": "code",
   "execution_count": null,
   "metadata": {
    "collapsed": true
   },
   "outputs": [],
   "source": []
  }
 ],
 "metadata": {
  "kernelspec": {
   "display_name": "Python 2",
   "language": "python",
   "name": "python2"
  },
  "language_info": {
   "codemirror_mode": {
    "name": "ipython",
    "version": 2
   },
   "file_extension": ".py",
   "mimetype": "text/x-python",
   "name": "python",
   "nbconvert_exporter": "python",
   "pygments_lexer": "ipython2",
   "version": "2.7.13"
  }
 },
 "nbformat": 4,
 "nbformat_minor": 1
}
